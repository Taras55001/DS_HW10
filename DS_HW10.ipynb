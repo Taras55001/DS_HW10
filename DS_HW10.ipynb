{
 "cells": [
  {
   "cell_type": "code",
   "execution_count": 1,
   "id": "d62cd5d8-ed8f-436b-ba44-eba6205fbc13",
   "metadata": {
    "colab": {
     "base_uri": "https://localhost:8080/",
     "height": 430
    },
    "id": "33fcd2fb-3c25-4916-8b1e-37201db23e9e",
    "outputId": "f0db7f00-c677-4fd8-8880-a4303c4fab6d"
   },
   "outputs": [],
   "source": [
    "# TensorFlow and tf.keras\n",
    "import tensorflow as tf\n",
    "\n",
    "# Helper libraries\n",
    "import numpy as np\n",
    "import matplotlib.pyplot as plt\n",
    "from tensorflow.keras.callbacks import EarlyStopping\n",
    "from tensorflow.keras.optimizers import Adam"
   ]
  },
  {
   "cell_type": "code",
   "execution_count": 2,
   "id": "2f5b60c0-37df-47bd-b3cc-449ae6ae1c24",
   "metadata": {
    "colab": {
     "base_uri": "https://localhost:8080/",
     "height": 430
    },
    "id": "33fcd2fb-3c25-4916-8b1e-37201db23e9e",
    "outputId": "f0db7f00-c677-4fd8-8880-a4303c4fab6d"
   },
   "outputs": [],
   "source": [
    "fashion_mnist = tf.keras.datasets.fashion_mnist\n",
    "\n",
    "(train_images, train_labels), (test_images, test_labels) = fashion_mnist.load_data()"
   ]
  },
  {
   "cell_type": "code",
   "execution_count": 3,
   "id": "f07ebb7a-80b9-4538-affa-71f16d5f87ac",
   "metadata": {
    "colab": {
     "base_uri": "https://localhost:8080/",
     "height": 430
    },
    "id": "33fcd2fb-3c25-4916-8b1e-37201db23e9e",
    "outputId": "f0db7f00-c677-4fd8-8880-a4303c4fab6d"
   },
   "outputs": [],
   "source": [
    "# Нормалізація значень пікселів до діапазону [0, 1]\n",
    "train_images_resized = train_images/255\n",
    "test_images_resized = test_images/255\n",
    "\n",
    "# Повторення одного каналу в три\n",
    "train_images_resized = tf.image.grayscale_to_rgb(tf.expand_dims(train_images_resized, axis=-1))\n",
    "test_images_resized = tf.image.grayscale_to_rgb(tf.expand_dims(test_images_resized, axis=-1))\n",
    "\n",
    "# Збільшення розміру зображень до (32, 32)\n",
    "item_size = 32,32\n",
    "train_images_resized = tf.image.resize(train_images_resized, (item_size))\n",
    "test_images_resized = tf.image.resize(test_images_resized, (item_size))"
   ]
  },
  {
   "cell_type": "code",
   "execution_count": 4,
   "id": "c5063841-617d-4a80-befe-8cc8373e072f",
   "metadata": {
    "id": "85db8f4a-d133-4348-b2b1-2d2e4b1ba303"
   },
   "outputs": [],
   "source": [
    "model = tf.keras.Sequential()\n",
    "model.add(tf.keras.layers.Conv2D(32, (3, 3), padding=\"same\", activation=\"relu\", input_shape=(32, 32, 3)))\n",
    "model.add(tf.keras.layers.MaxPooling2D((2, 2)))\n",
    "\n",
    "model.add(tf.keras.layers.Conv2D(256*3, (3, 3), activation=\"relu\"))\n",
    "model.add(tf.keras.layers.MaxPooling2D((2, 2)))\n",
    "\n",
    "model.add(tf.keras.layers.Conv2D(256, (3, 3), activation=\"relu\"))\n",
    "\n",
    "model.add(tf.keras.layers.Flatten())\n",
    "model.add(tf.keras.layers.Dense(128, activation=\"relu\"))\n",
    "\n",
    "model.add(tf.keras.layers.Dense(10, activation=\"softmax\"))"
   ]
  },
  {
   "cell_type": "code",
   "execution_count": 5,
   "id": "aad35c5f-5104-4b30-b745-e3813967ccb3",
   "metadata": {},
   "outputs": [],
   "source": [
    "model.load_weights('model_hw10_weights.h5')"
   ]
  },
  {
   "cell_type": "code",
   "execution_count": 6,
   "id": "af2b95af-9c1e-4e93-880d-aa365c34b991",
   "metadata": {
    "id": "85db8f4a-d133-4348-b2b1-2d2e4b1ba303"
   },
   "outputs": [],
   "source": [
    "model.compile(optimizer=Adam(learning_rate=0.0003),\n",
    "                  loss='sparse_categorical_crossentropy',\n",
    "                  metrics=['accuracy'])"
   ]
  },
  {
   "cell_type": "code",
   "execution_count": 7,
   "id": "9b4e1693-d865-494a-acf4-244856997863",
   "metadata": {
    "id": "85db8f4a-d133-4348-b2b1-2d2e4b1ba303"
   },
   "outputs": [],
   "source": [
    "early_stopping = EarlyStopping(monitor='val_loss', patience=3, restore_best_weights=True)"
   ]
  },
  {
   "cell_type": "code",
   "execution_count": 8,
   "id": "6038425f-d20a-4709-b0df-ac39cc0aa24a",
   "metadata": {
    "colab": {
     "base_uri": "https://localhost:8080/"
    },
    "id": "6038425f-d20a-4709-b0df-ac39cc0aa24a",
    "outputId": "1919611d-5a18-4470-d91b-9606c30d4559"
   },
   "outputs": [
    {
     "name": "stdout",
     "output_type": "stream",
     "text": [
      "Epoch 1/400\n",
      "375/375 [==============================] - 315s 837ms/step - loss: 0.0818 - accuracy: 0.9708 - val_loss: 0.2317 - val_accuracy: 0.9258\n",
      "Epoch 2/400\n",
      "375/375 [==============================] - 315s 841ms/step - loss: 0.0643 - accuracy: 0.9770 - val_loss: 0.2323 - val_accuracy: 0.9257\n",
      "Epoch 3/400\n",
      "375/375 [==============================] - 311s 830ms/step - loss: 0.0529 - accuracy: 0.9814 - val_loss: 0.2444 - val_accuracy: 0.9283\n",
      "Epoch 4/400\n",
      "375/375 [==============================] - 306s 815ms/step - loss: 0.0426 - accuracy: 0.9851 - val_loss: 0.2833 - val_accuracy: 0.9254\n"
     ]
    }
   ],
   "source": [
    "history = model.fit(train_images_resized, train_labels, epochs=400, batch_size=128, validation_split=0.2, callbacks=[early_stopping])"
   ]
  },
  {
   "cell_type": "code",
   "execution_count": 9,
   "id": "b8bcdb8c-ab11-4ad8-9106-1d74c2cf6104",
   "metadata": {},
   "outputs": [],
   "source": [
    "model.save_weights('model_hw10_weights.h5')"
   ]
  },
  {
   "cell_type": "code",
   "execution_count": 10,
   "id": "fa749aca-2852-4ae4-af1f-ff1b224216a6",
   "metadata": {
    "colab": {
     "base_uri": "https://localhost:8080/",
     "height": 1000
    },
    "id": "1079aa86-e6c4-406a-83d1-19cce2768b80",
    "outputId": "7b06f37b-ca70-4692-846c-bddbeafd7a75"
   },
   "outputs": [
    {
     "name": "stdout",
     "output_type": "stream",
     "text": [
      "313/313 - 15s - loss: 0.2649 - accuracy: 0.9215 - 15s/epoch - 49ms/step\n",
      "\n",
      "Test accuracy: 0.921500027179718\n"
     ]
    }
   ],
   "source": [
    "test_loss, test_acc = model.evaluate(test_images_resized,  test_labels, verbose=2)\n",
    "\n",
    "print('\\nTest accuracy:', test_acc)"
   ]
  },
  {
   "cell_type": "code",
   "execution_count": null,
   "id": "9b4e4939-f47c-4ae6-84b0-fb766df7279b",
   "metadata": {
    "id": "9b4e4939-f47c-4ae6-84b0-fb766df7279b"
   },
   "outputs": [],
   "source": []
  }
 ],
 "metadata": {
  "accelerator": "GPU",
  "colab": {
   "gpuType": "T4",
   "provenance": []
  },
  "kernelspec": {
   "display_name": "Python 3 (ipykernel)",
   "language": "python",
   "name": "python3"
  },
  "language_info": {
   "codemirror_mode": {
    "name": "ipython",
    "version": 3
   },
   "file_extension": ".py",
   "mimetype": "text/x-python",
   "name": "python",
   "nbconvert_exporter": "python",
   "pygments_lexer": "ipython3",
   "version": "3.11.1"
  }
 },
 "nbformat": 4,
 "nbformat_minor": 5
}
