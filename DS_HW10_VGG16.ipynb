{
 "cells": [
  {
   "cell_type": "code",
   "execution_count": 1,
   "id": "aa119713-7524-4734-b719-404dd8bd4e40",
   "metadata": {
    "id": "33fcd2fb-3c25-4916-8b1e-37201db23e9e"
   },
   "outputs": [],
   "source": [
    "# TensorFlow and tf.keras\n",
    "import tensorflow as tf\n",
    "from keras.applications.vgg16 import VGG16\n",
    "from keras import models\n",
    "from keras import layers\n",
    "from tensorflow.keras.callbacks import EarlyStopping\n",
    "from tensorflow.keras.utils import to_categorical\n",
    "import numpy as np\n",
    "import matplotlib.pyplot as plt"
   ]
  },
  {
   "cell_type": "code",
   "execution_count": 2,
   "id": "01154d1a-bfaf-48e7-a3d0-dc9576ac2ea0",
   "metadata": {
    "id": "33fcd2fb-3c25-4916-8b1e-37201db23e9e"
   },
   "outputs": [],
   "source": [
    "fashion_mnist = tf.keras.datasets.fashion_mnist\n",
    "\n",
    "(train_images, train_labels), (test_images, test_labels) = fashion_mnist.load_data()"
   ]
  },
  {
   "cell_type": "code",
   "execution_count": 3,
   "id": "a817fca8-c769-4ada-86ad-a1f4258abf6c",
   "metadata": {
    "colab": {
     "base_uri": "https://localhost:8080/"
    },
    "id": "b535bd84-1806-47cb-91bf-89b558b8430c",
    "outputId": "75c05c90-38d4-4bf4-ebd2-0cddecd2589a"
   },
   "outputs": [],
   "source": [
    "# Нормалізація значень пікселів до діапазону [0, 1]\n",
    "train_images_resized = train_images/255\n",
    "test_images_resized = test_images/255\n",
    "\n",
    "# Повторення одного каналу в три\n",
    "train_images_resized = tf.image.grayscale_to_rgb(tf.expand_dims(train_images_resized, axis=-1))\n",
    "test_images_resized = tf.image.grayscale_to_rgb(tf.expand_dims(test_images_resized, axis=-1))\n",
    "\n",
    "# Збільшення розміру зображень до (32, 32)\n",
    "item_size = 32,32\n",
    "train_images_resized = tf.image.resize(train_images_resized, (item_size))\n",
    "test_images_resized = tf.image.resize(test_images_resized, (item_size))\n",
    "\n",
    "train_labels_onehot = to_categorical(train_labels)\n",
    "test_labels_onehot = to_categorical(test_labels)"
   ]
  },
  {
   "cell_type": "code",
   "execution_count": 4,
   "id": "ceb1322c-6e5e-40e5-af02-b97d88740b64",
   "metadata": {
    "colab": {
     "base_uri": "https://localhost:8080/"
    },
    "id": "b535bd84-1806-47cb-91bf-89b558b8430c",
    "outputId": "75c05c90-38d4-4bf4-ebd2-0cddecd2589a"
   },
   "outputs": [],
   "source": [
    "# Побудова моделі\n",
    "conv_base = VGG16(weights=\"imagenet\", include_top=False, input_shape=(item_size[0],item_size[1], 3))\n",
    "conv_base.trainable = False\n",
    "\n",
    "model = models.Sequential([\n",
    "    conv_base,\n",
    "    layers.Flatten(),\n",
    "    layers.Dense(256, activation=\"relu\"),\n",
    "    layers.Dense(10, activation=\"sigmoid\"),\n",
    "])"
   ]
  },
  {
   "cell_type": "code",
   "execution_count": 5,
   "id": "e78ec908-03a4-43cf-b7f5-1e33cb05fa66",
   "metadata": {},
   "outputs": [],
   "source": [
    "model.load_weights('saved_model_weights.h5')"
   ]
  },
  {
   "cell_type": "code",
   "execution_count": 6,
   "id": "6a1842a9-f6ed-4509-9258-ac9d714a2893",
   "metadata": {
    "colab": {
     "base_uri": "https://localhost:8080/"
    },
    "id": "b535bd84-1806-47cb-91bf-89b558b8430c",
    "outputId": "75c05c90-38d4-4bf4-ebd2-0cddecd2589a"
   },
   "outputs": [],
   "source": [
    "model.compile(\n",
    "    loss=\"binary_crossentropy\",\n",
    "    optimizer=tf.keras.optimizers.Adam(learning_rate=2e-5),\n",
    "    metrics=[\"acc\"]\n",
    ")\n",
    "\n",
    "early_stopping = EarlyStopping(monitor='val_loss', patience=3, restore_best_weights=True)"
   ]
  },
  {
   "cell_type": "code",
   "execution_count": 7,
   "id": "3b66d501-0904-4934-87b1-f28d63fd75cd",
   "metadata": {
    "colab": {
     "base_uri": "https://localhost:8080/"
    },
    "id": "b535bd84-1806-47cb-91bf-89b558b8430c",
    "outputId": "75c05c90-38d4-4bf4-ebd2-0cddecd2589a"
   },
   "outputs": [
    {
     "name": "stdout",
     "output_type": "stream",
     "text": [
      "Epoch 1/150\n",
      "375/375 [==============================] - 282s 750ms/step - loss: 0.0582 - acc: 0.8869 - val_loss: 0.0598 - val_acc: 0.8832\n",
      "Epoch 2/150\n",
      "375/375 [==============================] - 269s 719ms/step - loss: 0.0581 - acc: 0.8875 - val_loss: 0.0598 - val_acc: 0.8838\n",
      "Epoch 3/150\n",
      "375/375 [==============================] - 262s 698ms/step - loss: 0.0580 - acc: 0.8878 - val_loss: 0.0599 - val_acc: 0.8837\n",
      "Epoch 4/150\n",
      "375/375 [==============================] - 253s 676ms/step - loss: 0.0580 - acc: 0.8873 - val_loss: 0.0599 - val_acc: 0.8834\n",
      "Epoch 5/150\n",
      "375/375 [==============================] - 273s 727ms/step - loss: 0.0579 - acc: 0.8875 - val_loss: 0.0600 - val_acc: 0.8829\n"
     ]
    }
   ],
   "source": [
    "history = model.fit(train_images_resized, train_labels_onehot, epochs=150, batch_size=128, validation_split=0.2,\n",
    "    callbacks=[early_stopping])"
   ]
  },
  {
   "cell_type": "code",
   "execution_count": 8,
   "id": "6776fc4f-46bf-4695-9afa-1c3fe67fd37c",
   "metadata": {},
   "outputs": [],
   "source": [
    "model.save_weights('saved_model_weights.h5')"
   ]
  },
  {
   "cell_type": "markdown",
   "id": "d151c6a6-ea1c-4bba-958b-12b300580d97",
   "metadata": {},
   "source": [
    "Здається що модель погано адаптується під зображення в одному кольорі, можливо зі збільшенням розміру та ретельнішим підбором гіперпараметрів можна поліпшити передбачення, але це збільшить час навчання.Модель з повнозв'язними шарами з попередньої домашньої роботи виконує це завдання краще при меншому часі на навчання.Інша згорткова мережа з DS_HW10 виявилась видшою в навчанні що дало змогу заощадити час та підібрати кращі параметри для моделі.Згорткові мережі дають кращий результат передбачення ніж повнозв'язні, найкращий резуьтат з попередньої роботи 89% на валідаційних даних, згорткова мережа з першої частини цього завдання має 92%"
   ]
  },
  {
   "cell_type": "code",
   "execution_count": 10,
   "id": "1079aa86-e6c4-406a-83d1-19cce2768b80",
   "metadata": {
    "id": "1079aa86-e6c4-406a-83d1-19cce2768b80"
   },
   "outputs": [
    {
     "name": "stdout",
     "output_type": "stream",
     "text": [
      "313/313 - 47s - loss: 0.0671 - acc: 0.8661 - 47s/epoch - 150ms/step\n",
      "\n",
      "Test accuracy: 0.866100013256073\n"
     ]
    }
   ],
   "source": [
    "test_loss, test_acc = model.evaluate(test_images_resized,  test_labels_onehot, verbose=2)\n",
    "\n",
    "print('\\nTest accuracy:', test_acc)"
   ]
  },
  {
   "cell_type": "code",
   "execution_count": null,
   "id": "9b4e4939-f47c-4ae6-84b0-fb766df7279b",
   "metadata": {
    "id": "9b4e4939-f47c-4ae6-84b0-fb766df7279b"
   },
   "outputs": [],
   "source": []
  }
 ],
 "metadata": {
  "colab": {
   "provenance": []
  },
  "kernelspec": {
   "display_name": "Python 3 (ipykernel)",
   "language": "python",
   "name": "python3"
  },
  "language_info": {
   "codemirror_mode": {
    "name": "ipython",
    "version": 3
   },
   "file_extension": ".py",
   "mimetype": "text/x-python",
   "name": "python",
   "nbconvert_exporter": "python",
   "pygments_lexer": "ipython3",
   "version": "3.11.1"
  }
 },
 "nbformat": 4,
 "nbformat_minor": 5
}
